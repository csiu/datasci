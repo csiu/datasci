{
 "cells": [
  {
   "cell_type": "markdown",
   "metadata": {},
   "source": [
    "Visualizing data is awesome. In this post, I decided to use [D3](http://d3js.org) in [iPython notebook](http://ipython.org/notebook.html) to visualize the [\"network of frequent associations between 62 dolphins in a community living off Doubtful Sound, New Zealand\"](http://networkdata.ics.uci.edu/data.php?id=6).\n",
    "\n",
    "> There is something therapeutically beautiful about force directed layouts of which you can pull and push around.\n",
    "\n",
    "The first thing -- after downloading the dolphins dataset -- was to wrangle the data to a workable format."
   ]
  },
  {
   "cell_type": "code",
   "execution_count": 1,
   "metadata": {
    "collapsed": true
   },
   "outputs": [],
   "source": [
    "import networkx as nx\n",
    "\n",
    "G = nx.read_gml('dolphins.gml') ##downloaded from above link\n",
    "\n",
    "category = {}\n",
    "for i,k in G.edge.iteritems():\n",
    "    if len(k) < 4:\n",
    "        category[i] = '< 4 neighbors'\n",
    "    elif len(k) < 11:\n",
    "        category[i] = '5-10 neighbors'\n",
    "    else:\n",
    "        category[i] = '> 10 neighbors'\n",
    "\n",
    "_nodes = []\n",
    "for i in range(0,62):\n",
    "    profile = G.node[i]\n",
    "    _nodes.append({'name':profile['label'].encode(\"utf-8\"),\n",
    "                   'group':category[i]})\n",
    "\n",
    "_edges = [{'source':i[0], 'target':i[1]} for i in G.edges()]"
   ]
  },
  {
   "cell_type": "markdown",
   "metadata": {
    "collapsed": false
   },
   "source": [
    "Initially, I thought JSON format (code to do this below) was the way to go, but then later realized that I wanted to keep this post simple (and because the D3 code was extrapolated from other code -- used in conjunction with PHP while pulling data from a MySQL database -- of which was not meant to take in JSON formatted data).\n",
    "```\n",
    "import json\n",
    "with open('dolphins.json', 'w') as out:\n",
    "    dat = {\"nodes\":_nodes,\n",
    "           \"links\":_edges}\n",
    "    json.dump(dat, out)\n",
    "```\n",
    "Therefore, I pre-processed the `nodes` and `links` variables to JavaScript format and outputed this information into `dolphins.js`."
   ]
  },
  {
   "cell_type": "code",
   "execution_count": 2,
   "metadata": {
    "collapsed": false
   },
   "outputs": [],
   "source": [
    "import sys\n",
    "datfile = 'dolphins.js'\n",
    "\n",
    "def print_list_JavaScript_format(x, dat, out = sys.stdout):\n",
    "    out.write('var %s = [\\n' % x)\n",
    "    for i in dat: \n",
    "        out.write('%s,\\n' % i)\n",
    "    out.write('];\\n')\n",
    "\n",
    "with open(datfile, 'w') as out:\n",
    "    print_list_JavaScript_format('nodes', _nodes, out)\n",
    "    print_list_JavaScript_format('links', _edges, out)"
   ]
  },
  {
   "cell_type": "markdown",
   "metadata": {},
   "source": [
    "The next thing I did was to write to `fdg-dolphins.html` the D3 JavaScript code. I also added a `<!--ADD-DATASET-->` comment so that I can later replace this with the contents of `dolphins.js`. \n",
    "\n",
    "Here, I would also like to mention the D3 code was inspired from the [Force-Directed Graph of co-occurring character in Les Misérables](http://bl.ocks.org/mbostock/4062045). In addition, I also added a legend categorizing the quantity of neighbors a node has (i.e. is this dolphin friendly?)"
   ]
  },
  {
   "cell_type": "code",
   "execution_count": 3,
   "metadata": {
    "collapsed": false
   },
   "outputs": [
    {
     "name": "stdout",
     "output_type": "stream",
     "text": [
      "Writing fdg-dolphins.html\n"
     ]
    }
   ],
   "source": [
    "%%writefile fdg-dolphins.html\n",
    "<!DOCTYPE html>\n",
    "<html>\n",
    "<script src=\"https://cdnjs.cloudflare.com/ajax/libs/d3/3.5.5/d3.min.js\"></script>\n",
    "<style>\n",
    ".node {\n",
    "  stroke: #fff;\n",
    "  stroke-width: 1.5px;\n",
    "}\n",
    ".link {\n",
    "  stroke: #999;\n",
    "  stroke-opacity: .6;\n",
    "}\n",
    "</style>\n",
    "\n",
    "<body>\n",
    "<div class=\"chart\">\n",
    "<script>\n",
    "<!--ADD-DATASET-->\n",
    "\n",
    "var width = 640,\n",
    "    height = 480;\n",
    "\n",
    "var color = d3.scale.category10()\n",
    "    .domain(['< 4 neighbors', '5-10 neighbors', '> 10 neighbors']);\n",
    "\n",
    "var svg = d3.select('.chart').append('svg')\n",
    "    .attr('width', width)\n",
    "    .attr('height', height);\n",
    "\n",
    "var force = d3.layout.force()\n",
    "    .size([width, height])\n",
    "    .charge(-120)\n",
    "    .linkDistance(50)\n",
    "    .nodes(nodes)\n",
    "    .links(links);\n",
    "\n",
    "var link = svg.selectAll('.link')\n",
    "    .data(links)\n",
    "    .enter().append('line')\n",
    "    .attr('class', 'link')\n",
    "    .style(\"stroke-width\", function(d) { return Math.sqrt(d.value); });\n",
    "    \n",
    "var node = svg.selectAll('.node')\n",
    "    .data(nodes)\n",
    "    .enter().append('circle')\n",
    "    .attr('class', 'node')\n",
    "    .attr(\"r\", 5)\n",
    "    .style(\"fill\", function(d) { return color(d.group); })\n",
    "    .call(force.drag);\n",
    "\n",
    "node.append(\"title\")\n",
    "    .text(function(d) { return d.name; });\n",
    "\n",
    "force.on(\"tick\", function() {\n",
    "    link.attr(\"x1\", function(d) { return d.source.x; })\n",
    "        .attr(\"y1\", function(d) { return d.source.y; })\n",
    "        .attr(\"x2\", function(d) { return d.target.x; })\n",
    "        .attr(\"y2\", function(d) { return d.target.y; });\n",
    "\n",
    "    node.attr(\"cx\", function(d) { return d.x; })\n",
    "        .attr(\"cy\", function(d) { return d.y; });\n",
    "});\n",
    "force.start();\n",
    "\n",
    "//Legend\n",
    "var legend = svg.selectAll(\".legend\")\n",
    "    .data(color.domain())\n",
    "    .enter().append(\"g\")\n",
    "    .attr(\"class\", \"legend\")\n",
    "    .attr(\"transform\", function(d, i) { return \"translate(0,\" + i * 20 + \")\"; });\n",
    "\n",
    "legend.append(\"rect\")\n",
    "    .attr(\"x\", width - 18)\n",
    "    .attr(\"width\", 18)\n",
    "    .attr(\"height\", 18)\n",
    "    .style(\"fill\", color);\n",
    "\n",
    "legend.append(\"text\")\n",
    "    .attr(\"x\", width - 24)\n",
    "    .attr(\"y\", 9)\n",
    "    .attr(\"dy\", \".35em\")\n",
    "    .style(\"text-anchor\", \"end\")\n",
    "    .text(function(d){return d});\n",
    "</script>\n",
    "</div>\n",
    "</body>\n",
    "</html>"
   ]
  },
  {
   "cell_type": "markdown",
   "metadata": {},
   "source": [
    "In the following bit of code, `<!--ADD-DATASET-->` in `fdg-dolphins.html` was replaced with the contents of `dolphins.js`."
   ]
  },
  {
   "cell_type": "code",
   "execution_count": 4,
   "metadata": {
    "collapsed": false
   },
   "outputs": [],
   "source": [
    "import re\n",
    "htmlfile = 'fdg-dolphins.html'\n",
    "\n",
    "with open(datfile) as f:\n",
    "    dat = f.read()\n",
    "    \n",
    "with open(htmlfile) as f:\n",
    "    dat = re.sub('<!--ADD-DATASET-->', dat, f.read())\n",
    "with open(htmlfile, 'w') as f:\n",
    "    f.write(dat)"
   ]
  },
  {
   "cell_type": "markdown",
   "metadata": {},
   "source": [
    "Finally, the D3 dolphins network in iPython notebook is visualized! "
   ]
  },
  {
   "cell_type": "code",
   "execution_count": 5,
   "metadata": {
    "collapsed": false
   },
   "outputs": [
    {
     "data": {
      "text/html": [
       "\n",
       "        <iframe\n",
       "            width=\"650\"\n",
       "            height=\"500\"\n",
       "            src=\"fdg-dolphins.html\"\n",
       "            frameborder=\"0\"\n",
       "            allowfullscreen\n",
       "        ></iframe>\n",
       "        "
      ],
      "text/plain": [
       "<IPython.lib.display.IFrame at 0x107e88a10>"
      ]
     },
     "execution_count": 5,
     "metadata": {},
     "output_type": "execute_result"
    }
   ],
   "source": [
    "from IPython.display import IFrame\n",
    "IFrame(htmlfile,650,500)"
   ]
  },
  {
   "cell_type": "markdown",
   "metadata": {},
   "source": [
    "From the network, we can clearly see that there are 3 dolphins that are more friendly/popular than others."
   ]
  }
 ],
 "metadata": {
  "kernelspec": {
   "display_name": "Python 2",
   "language": "python",
   "name": "python2"
  },
  "language_info": {
   "codemirror_mode": {
    "name": "ipython",
    "version": 2
   },
   "file_extension": ".py",
   "mimetype": "text/x-python",
   "name": "python",
   "nbconvert_exporter": "python",
   "pygments_lexer": "ipython2",
   "version": "2.7.5"
  }
 },
 "nbformat": 4,
 "nbformat_minor": 0
}
